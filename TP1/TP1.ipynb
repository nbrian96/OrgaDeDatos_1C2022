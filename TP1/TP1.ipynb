{
 "cells": [
  {
   "cell_type": "code",
   "execution_count": null,
   "id": "b7ade7ce",
   "metadata": {
    "execution": {
     "iopub.execute_input": "2022-04-14T16:31:52.488484Z",
     "iopub.status.busy": "2022-04-14T16:31:52.487342Z",
     "iopub.status.idle": "2022-04-14T16:31:53.547830Z",
     "shell.execute_reply": "2022-04-14T16:31:53.546904Z",
     "shell.execute_reply.started": "2022-04-14T16:28:59.248129Z"
    },
    "papermill": {
     "duration": 1.087175,
     "end_time": "2022-04-14T16:31:53.548037",
     "exception": false,
     "start_time": "2022-04-14T16:31:52.460862",
     "status": "completed"
    },
    "tags": []
   },
   "outputs": [],
   "source": [
    "import numpy as np \n",
    "import pandas as pd\n",
    "\n",
    "import matplotlib.pyplot as plt\n",
    "import seaborn as sns\n",
    "from subprocess import check_output"
   ]
  },
  {
   "cell_type": "code",
   "execution_count": null,
   "id": "45415c74",
   "metadata": {
    "execution": {
     "iopub.execute_input": "2022-04-14T16:31:53.596525Z",
     "iopub.status.busy": "2022-04-14T16:31:53.595531Z",
     "iopub.status.idle": "2022-04-14T16:31:53.682226Z",
     "shell.execute_reply": "2022-04-14T16:31:53.682778Z",
     "shell.execute_reply.started": "2022-04-14T16:29:00.513283Z"
    },
    "papermill": {
     "duration": 0.112213,
     "end_time": "2022-04-14T16:31:53.682974",
     "exception": false,
     "start_time": "2022-04-14T16:31:53.570761",
     "status": "completed"
    },
    "tags": []
   },
   "outputs": [],
   "source": [
    "# Se carga el dataset\n",
    "\n",
    "Dataset = \"../input/fivethirtyeight/data/data/nutrition-studies/nutrition-studies/raw_anonymized_data.csv\"\n",
    "d = pd.read_csv(Dataset)"
   ]
  },
  {
   "cell_type": "markdown",
   "id": "113b0b16",
   "metadata": {
    "papermill": {
     "duration": 0.02206,
     "end_time": "2022-04-14T16:31:53.727675",
     "exception": false,
     "start_time": "2022-04-14T16:31:53.705615",
     "status": "completed"
    },
    "tags": []
   },
   "source": [
    "# **1 - Descripcion del data set**"
   ]
  },
  {
   "cell_type": "markdown",
   "id": "4761922a",
   "metadata": {
    "papermill": {
     "duration": 0.021841,
     "end_time": "2022-04-14T16:31:53.771955",
     "exception": false,
     "start_time": "2022-04-14T16:31:53.750114",
     "status": "completed"
    },
    "tags": []
   },
   "source": [
    "### **Resumen del DataSet**"
   ]
  },
  {
   "cell_type": "code",
   "execution_count": null,
   "id": "8ed831a6",
   "metadata": {
    "execution": {
     "iopub.execute_input": "2022-04-14T16:31:53.820923Z",
     "iopub.status.busy": "2022-04-14T16:31:53.819909Z",
     "iopub.status.idle": "2022-04-14T16:31:53.890589Z",
     "shell.execute_reply": "2022-04-14T16:31:53.891141Z",
     "shell.execute_reply.started": "2022-04-14T16:29:00.606463Z"
    },
    "papermill": {
     "duration": 0.096775,
     "end_time": "2022-04-14T16:31:53.891319",
     "exception": false,
     "start_time": "2022-04-14T16:31:53.794544",
     "status": "completed"
    },
    "tags": []
   },
   "outputs": [],
   "source": [
    "# Vemos las primeras y las ultimas 10 filas.\n",
    "\n",
    "the_first_teen = d.head(10)\n",
    "the_last_teen  = d.tail(10)\n",
    "\n",
    "reduced_dataset = pd.concat([the_first_teen, the_last_teen], axis=0) # Apilamos uno encima del otro\n",
    "\n",
    "reduced_dataset.head(20)"
   ]
  },
  {
   "cell_type": "markdown",
   "id": "bb90f2ee",
   "metadata": {
    "papermill": {
     "duration": 0.023958,
     "end_time": "2022-04-14T16:31:53.939308",
     "exception": false,
     "start_time": "2022-04-14T16:31:53.915350",
     "status": "completed"
    },
    "tags": []
   },
   "source": [
    " "
   ]
  },
  {
   "cell_type": "markdown",
   "id": "f0198301",
   "metadata": {
    "papermill": {
     "duration": 0.023425,
     "end_time": "2022-04-14T16:31:53.986314",
     "exception": false,
     "start_time": "2022-04-14T16:31:53.962889",
     "status": "completed"
    },
    "tags": []
   },
   "source": [
    "### **Dimensiones**"
   ]
  },
  {
   "cell_type": "code",
   "execution_count": null,
   "id": "977b10dc",
   "metadata": {
    "execution": {
     "iopub.execute_input": "2022-04-14T16:31:54.036373Z",
     "iopub.status.busy": "2022-04-14T16:31:54.035698Z",
     "iopub.status.idle": "2022-04-14T16:31:54.039821Z",
     "shell.execute_reply": "2022-04-14T16:31:54.040382Z",
     "shell.execute_reply.started": "2022-04-14T16:29:00.685826Z"
    },
    "papermill": {
     "duration": 0.030805,
     "end_time": "2022-04-14T16:31:54.040568",
     "exception": false,
     "start_time": "2022-04-14T16:31:54.009763",
     "status": "completed"
    },
    "tags": []
   },
   "outputs": [],
   "source": [
    "# Se muestra dimensiones: (filas, columnas)\n",
    "d.shape"
   ]
  },
  {
   "cell_type": "markdown",
   "id": "8efac134",
   "metadata": {
    "papermill": {
     "duration": 0.023475,
     "end_time": "2022-04-14T16:31:54.089268",
     "exception": false,
     "start_time": "2022-04-14T16:31:54.065793",
     "status": "completed"
    },
    "tags": []
   },
   "source": [
    "> **Cantidad de Filas: 54**\n",
    "\n",
    "> **Cantidad de Columnas: 1093**"
   ]
  },
  {
   "cell_type": "markdown",
   "id": "2ac3f814",
   "metadata": {
    "papermill": {
     "duration": 0.023741,
     "end_time": "2022-04-14T16:31:54.137272",
     "exception": false,
     "start_time": "2022-04-14T16:31:54.113531",
     "status": "completed"
    },
    "tags": []
   },
   "source": [
    "  "
   ]
  },
  {
   "cell_type": "markdown",
   "id": "147d5f5f",
   "metadata": {
    "papermill": {
     "duration": 0.025027,
     "end_time": "2022-04-14T16:31:54.186144",
     "exception": false,
     "start_time": "2022-04-14T16:31:54.161117",
     "status": "completed"
    },
    "tags": []
   },
   "source": [
    "### **Cantidad de datos Nulos**"
   ]
  },
  {
   "cell_type": "code",
   "execution_count": null,
   "id": "9781d5fb",
   "metadata": {
    "execution": {
     "iopub.execute_input": "2022-04-14T16:31:54.243762Z",
     "iopub.status.busy": "2022-04-14T16:31:54.243056Z",
     "iopub.status.idle": "2022-04-14T16:31:54.417901Z",
     "shell.execute_reply": "2022-04-14T16:31:54.417278Z",
     "shell.execute_reply.started": "2022-04-14T16:29:00.693846Z"
    },
    "papermill": {
     "duration": 0.208025,
     "end_time": "2022-04-14T16:31:54.418226",
     "exception": false,
     "start_time": "2022-04-14T16:31:54.210201",
     "status": "completed"
    },
    "tags": []
   },
   "outputs": [],
   "source": [
    "# Contar cuantas columnas contiene ALGÚN dato nulo\n",
    "\n",
    "contador_nulls = 0\n",
    "\n",
    "for columna in d:  \n",
    "    if(d[columna].isnull().any().sum() > 0): \n",
    "        contador_nulls = contador_nulls + 1 \n",
    "    \n",
    "print(contador_nulls)\n"
   ]
  },
  {
   "cell_type": "code",
   "execution_count": null,
   "id": "ad6c86c8",
   "metadata": {
    "execution": {
     "iopub.execute_input": "2022-04-14T16:31:54.471293Z",
     "iopub.status.busy": "2022-04-14T16:31:54.470661Z",
     "iopub.status.idle": "2022-04-14T16:31:54.557035Z",
     "shell.execute_reply": "2022-04-14T16:31:54.557831Z",
     "shell.execute_reply.started": "2022-04-14T16:29:00.894372Z"
    },
    "papermill": {
     "duration": 0.114731,
     "end_time": "2022-04-14T16:31:54.558158",
     "exception": false,
     "start_time": "2022-04-14T16:31:54.443427",
     "status": "completed"
    },
    "tags": []
   },
   "outputs": [],
   "source": [
    "# Contar cuantas filas contiene ALGÚN dato nulo\n",
    "\n",
    "contador_nulls = 0\n",
    "\n",
    "for i in range(0,54):\n",
    "    if(d.iloc[i].isnull().any().sum() > 0):\n",
    "        contador_nulls = contador_nulls + 1 \n",
    "    \n",
    "print(contador_nulls)"
   ]
  },
  {
   "cell_type": "markdown",
   "id": "ad2d484e",
   "metadata": {
    "papermill": {
     "duration": 0.025053,
     "end_time": "2022-04-14T16:31:54.610248",
     "exception": false,
     "start_time": "2022-04-14T16:31:54.585195",
     "status": "completed"
    },
    "tags": []
   },
   "source": [
    "> **No hay datos faltantes en ninguna fila**\n",
    "\n",
    "> **No hay datos faltantes en ninguna columna**"
   ]
  },
  {
   "cell_type": "markdown",
   "id": "48a3b41e",
   "metadata": {
    "papermill": {
     "duration": 0.024615,
     "end_time": "2022-04-14T16:31:54.660457",
     "exception": false,
     "start_time": "2022-04-14T16:31:54.635842",
     "status": "completed"
    },
    "tags": []
   },
   "source": [
    " "
   ]
  },
  {
   "cell_type": "markdown",
   "id": "ea027c20",
   "metadata": {
    "papermill": {
     "duration": 0.024702,
     "end_time": "2022-04-14T16:31:54.709777",
     "exception": false,
     "start_time": "2022-04-14T16:31:54.685075",
     "status": "completed"
    },
    "tags": []
   },
   "source": [
    "### **Tipos de datos**"
   ]
  },
  {
   "cell_type": "code",
   "execution_count": null,
   "id": "5f10466a",
   "metadata": {
    "execution": {
     "iopub.execute_input": "2022-04-14T16:31:54.763565Z",
     "iopub.status.busy": "2022-04-14T16:31:54.762845Z",
     "iopub.status.idle": "2022-04-14T16:31:54.790601Z",
     "shell.execute_reply": "2022-04-14T16:31:54.791250Z",
     "shell.execute_reply.started": "2022-04-14T16:29:00.985935Z"
    },
    "papermill": {
     "duration": 0.056987,
     "end_time": "2022-04-14T16:31:54.791430",
     "exception": false,
     "start_time": "2022-04-14T16:31:54.734443",
     "status": "completed"
    },
    "tags": []
   },
   "outputs": [],
   "source": [
    "# Analizo tipos de datos\n",
    "d.info()"
   ]
  },
  {
   "cell_type": "markdown",
   "id": "d4579133",
   "metadata": {
    "papermill": {
     "duration": 0.025022,
     "end_time": "2022-04-14T16:31:54.841875",
     "exception": false,
     "start_time": "2022-04-14T16:31:54.816853",
     "status": "completed"
    },
    "tags": []
   },
   "source": [
    "**El dataset posee tres tipos de datos:**\n",
    "\n",
    "> 554 de tipo float\n",
    "\n",
    "> 513 de tipo int\n",
    "\n",
    "> 26 de tipo object\n"
   ]
  },
  {
   "cell_type": "code",
   "execution_count": null,
   "id": "6c80256f",
   "metadata": {
    "execution": {
     "iopub.execute_input": "2022-04-14T16:31:54.895700Z",
     "iopub.status.busy": "2022-04-14T16:31:54.895040Z",
     "iopub.status.idle": "2022-04-14T16:31:54.913442Z",
     "shell.execute_reply": "2022-04-14T16:31:54.914020Z",
     "shell.execute_reply.started": "2022-04-14T16:29:01.027618Z"
    },
    "papermill": {
     "duration": 0.047045,
     "end_time": "2022-04-14T16:31:54.914210",
     "exception": false,
     "start_time": "2022-04-14T16:31:54.867165",
     "status": "completed"
    },
    "tags": []
   },
   "outputs": [],
   "source": [
    "d.select_dtypes(include = 'int64').head()"
   ]
  },
  {
   "cell_type": "code",
   "execution_count": null,
   "id": "8a5ab20a",
   "metadata": {
    "execution": {
     "iopub.execute_input": "2022-04-14T16:31:54.969336Z",
     "iopub.status.busy": "2022-04-14T16:31:54.968670Z",
     "iopub.status.idle": "2022-04-14T16:31:54.997491Z",
     "shell.execute_reply": "2022-04-14T16:31:54.998108Z",
     "shell.execute_reply.started": "2022-04-14T16:29:01.056210Z"
    },
    "papermill": {
     "duration": 0.057854,
     "end_time": "2022-04-14T16:31:54.998277",
     "exception": false,
     "start_time": "2022-04-14T16:31:54.940423",
     "status": "completed"
    },
    "tags": []
   },
   "outputs": [],
   "source": [
    "d.select_dtypes(include = 'float64').head()"
   ]
  },
  {
   "cell_type": "code",
   "execution_count": null,
   "id": "86dd4987",
   "metadata": {
    "execution": {
     "iopub.execute_input": "2022-04-14T16:31:55.060433Z",
     "iopub.status.busy": "2022-04-14T16:31:55.059501Z",
     "iopub.status.idle": "2022-04-14T16:31:55.097868Z",
     "shell.execute_reply": "2022-04-14T16:31:55.098635Z",
     "shell.execute_reply.started": "2022-04-14T16:29:01.098451Z"
    },
    "papermill": {
     "duration": 0.072231,
     "end_time": "2022-04-14T16:31:55.098840",
     "exception": false,
     "start_time": "2022-04-14T16:31:55.026609",
     "status": "completed"
    },
    "tags": []
   },
   "outputs": [],
   "source": [
    "d.select_dtypes(include = 'object').head()"
   ]
  },
  {
   "cell_type": "markdown",
   "id": "5489bf96",
   "metadata": {
    "papermill": {
     "duration": 0.027596,
     "end_time": "2022-04-14T16:31:55.158337",
     "exception": false,
     "start_time": "2022-04-14T16:31:55.130741",
     "status": "completed"
    },
    "tags": []
   },
   "source": [
    "## **2 - Análisis de Variables Cualitativas**"
   ]
  },
  {
   "cell_type": "code",
   "execution_count": null,
   "id": "f8649cf7",
   "metadata": {
    "execution": {
     "iopub.execute_input": "2022-04-14T16:31:55.226082Z",
     "iopub.status.busy": "2022-04-14T16:31:55.225088Z",
     "iopub.status.idle": "2022-04-14T16:31:55.227070Z",
     "shell.execute_reply": "2022-04-14T16:31:55.227860Z",
     "shell.execute_reply.started": "2022-04-14T16:29:01.127131Z"
    },
    "papermill": {
     "duration": 0.041495,
     "end_time": "2022-04-14T16:31:55.228091",
     "exception": false,
     "start_time": "2022-04-14T16:31:55.186596",
     "status": "completed"
    },
    "tags": []
   },
   "outputs": [],
   "source": [
    "# Hago una copia de las columnas con variables cualitativas\n",
    "d_copy = d.select_dtypes(include = 'object')"
   ]
  },
  {
   "cell_type": "code",
   "execution_count": null,
   "id": "e61b2f46",
   "metadata": {
    "execution": {
     "iopub.execute_input": "2022-04-14T16:31:55.320180Z",
     "iopub.status.busy": "2022-04-14T16:31:55.319414Z",
     "iopub.status.idle": "2022-04-14T16:31:55.334544Z",
     "shell.execute_reply": "2022-04-14T16:31:55.335231Z",
     "shell.execute_reply.started": "2022-04-14T16:29:01.143161Z"
    },
    "papermill": {
     "duration": 0.064208,
     "end_time": "2022-04-14T16:31:55.335405",
     "exception": false,
     "start_time": "2022-04-14T16:31:55.271197",
     "status": "completed"
    },
    "tags": []
   },
   "outputs": [],
   "source": [
    "d_copy.info()"
   ]
  },
  {
   "cell_type": "code",
   "execution_count": null,
   "id": "56a6f918",
   "metadata": {
    "execution": {
     "iopub.execute_input": "2022-04-14T16:31:55.423414Z",
     "iopub.status.busy": "2022-04-14T16:31:55.422343Z",
     "iopub.status.idle": "2022-04-14T16:31:55.439029Z",
     "shell.execute_reply": "2022-04-14T16:31:55.438194Z",
     "shell.execute_reply.started": "2022-04-14T16:29:01.164940Z"
    },
    "papermill": {
     "duration": 0.073197,
     "end_time": "2022-04-14T16:31:55.439246",
     "exception": false,
     "start_time": "2022-04-14T16:31:55.366049",
     "status": "completed"
    },
    "tags": []
   },
   "outputs": [],
   "source": [
    "d_copy.head()"
   ]
  },
  {
   "cell_type": "markdown",
   "id": "b7f04db4",
   "metadata": {
    "papermill": {
     "duration": 0.028283,
     "end_time": "2022-04-14T16:31:55.512810",
     "exception": false,
     "start_time": "2022-04-14T16:31:55.484527",
     "status": "completed"
    },
    "tags": []
   },
   "source": [
    "## **3 - Análisis de Variables Cuantitativas**"
   ]
  },
  {
   "cell_type": "code",
   "execution_count": null,
   "id": "e8bce2e2",
   "metadata": {
    "execution": {
     "iopub.execute_input": "2022-04-14T16:31:55.574792Z",
     "iopub.status.busy": "2022-04-14T16:31:55.573102Z",
     "iopub.status.idle": "2022-04-14T16:31:55.577378Z",
     "shell.execute_reply": "2022-04-14T16:31:55.576715Z",
     "shell.execute_reply.started": "2022-04-14T16:29:01.199900Z"
    },
    "papermill": {
     "duration": 0.036186,
     "end_time": "2022-04-14T16:31:55.577529",
     "exception": false,
     "start_time": "2022-04-14T16:31:55.541343",
     "status": "completed"
    },
    "tags": []
   },
   "outputs": [],
   "source": [
    "#Holus! This is Bren's branch\n"
   ]
  }
 ],
 "metadata": {
  "kernelspec": {
   "display_name": "Python 3",
   "language": "python",
   "name": "python3"
  },
  "language_info": {
   "codemirror_mode": {
    "name": "ipython",
    "version": 3
   },
   "file_extension": ".py",
   "mimetype": "text/x-python",
   "name": "python",
   "nbconvert_exporter": "python",
   "pygments_lexer": "ipython3",
   "version": "3.10.3"
  },
  "papermill": {
   "default_parameters": {},
   "duration": 16.627642,
   "end_time": "2022-04-14T16:31:59.126141",
   "environment_variables": {},
   "exception": null,
   "input_path": "__notebook__.ipynb",
   "output_path": "__notebook__.ipynb",
   "parameters": {},
   "start_time": "2022-04-14T16:31:42.498499",
   "version": "2.3.3"
  }
 },
 "nbformat": 4,
 "nbformat_minor": 5
}
