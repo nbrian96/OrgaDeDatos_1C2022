{
 "cells": [
  {
   "cell_type": "code",
   "execution_count": null,
   "id": "d2f73181",
   "metadata": {
    "execution": {
     "iopub.execute_input": "2022-04-14T17:09:38.883883Z",
     "iopub.status.busy": "2022-04-14T17:09:38.882295Z",
     "iopub.status.idle": "2022-04-14T17:09:39.893094Z",
     "shell.execute_reply": "2022-04-14T17:09:39.892378Z",
     "shell.execute_reply.started": "2022-04-14T14:07:29.48478Z"
    },
    "papermill": {
     "duration": 1.052633,
     "end_time": "2022-04-14T17:09:39.893262",
     "exception": false,
     "start_time": "2022-04-14T17:09:38.840629",
     "status": "completed"
    },
    "tags": []
   },
   "outputs": [],
   "source": [
    "import numpy as np \n",
    "import pandas as pd\n",
    "\n",
    "import matplotlib.pyplot as plt\n",
    "import seaborn as sns\n",
    "from subprocess import check_output\n",
    "sns.set()"
   ]
  },
  {
   "cell_type": "code",
   "execution_count": null,
   "id": "667ae322",
   "metadata": {
    "execution": {
     "iopub.execute_input": "2022-04-14T17:09:39.963651Z",
     "iopub.status.busy": "2022-04-14T17:09:39.962888Z",
     "iopub.status.idle": "2022-04-14T17:09:40.047266Z",
     "shell.execute_reply": "2022-04-14T17:09:40.046681Z",
     "shell.execute_reply.started": "2022-04-14T14:07:30.665642Z"
    },
    "papermill": {
     "duration": 0.120803,
     "end_time": "2022-04-14T17:09:40.047426",
     "exception": false,
     "start_time": "2022-04-14T17:09:39.926623",
     "status": "completed"
    },
    "tags": []
   },
   "outputs": [],
   "source": [
    "# Se carga el dataset\n",
    "\n",
    "Dataset = \"../input/fivethirtyeight/data/data/nutrition-studies/nutrition-studies/raw_anonymized_data.csv\"\n",
    "d = pd.read_csv(Dataset)"
   ]
  },
  {
   "cell_type": "markdown",
   "id": "550695b4",
   "metadata": {
    "papermill": {
     "duration": 0.030391,
     "end_time": "2022-04-14T17:09:40.109625",
     "exception": false,
     "start_time": "2022-04-14T17:09:40.079234",
     "status": "completed"
    },
    "tags": []
   },
   "source": [
    "# **1 - Descripcion del data set**"
   ]
  },
  {
   "cell_type": "markdown",
   "id": "7bee9f9f",
   "metadata": {
    "papermill": {
     "duration": 0.030656,
     "end_time": "2022-04-14T17:09:40.170479",
     "exception": false,
     "start_time": "2022-04-14T17:09:40.139823",
     "status": "completed"
    },
    "tags": []
   },
   "source": [
    "### **Resumen del DataSet**"
   ]
  },
  {
   "cell_type": "code",
   "execution_count": null,
   "id": "55abba7c",
   "metadata": {
    "execution": {
     "iopub.execute_input": "2022-04-14T17:09:40.235860Z",
     "iopub.status.busy": "2022-04-14T17:09:40.235216Z",
     "iopub.status.idle": "2022-04-14T17:09:40.304654Z",
     "shell.execute_reply": "2022-04-14T17:09:40.305141Z",
     "shell.execute_reply.started": "2022-04-14T14:07:30.76788Z"
    },
    "papermill": {
     "duration": 0.10403,
     "end_time": "2022-04-14T17:09:40.305304",
     "exception": false,
     "start_time": "2022-04-14T17:09:40.201274",
     "status": "completed"
    },
    "tags": []
   },
   "outputs": [],
   "source": [
    "# Vemos las primeras y las ultimas 10 filas.\n",
    "\n",
    "the_first_teen = d.head(10)\n",
    "the_last_teen  = d.tail(10)\n",
    "\n",
    "reduced_dataset = pd.concat([the_first_teen, the_last_teen], axis=0) # Apilamos uno encima del otro\n",
    "\n",
    "reduced_dataset.head(20)"
   ]
  },
  {
   "cell_type": "markdown",
   "id": "517b74a8",
   "metadata": {
    "papermill": {
     "duration": 0.032408,
     "end_time": "2022-04-14T17:09:40.370826",
     "exception": false,
     "start_time": "2022-04-14T17:09:40.338418",
     "status": "completed"
    },
    "tags": []
   },
   "source": [
    " "
   ]
  },
  {
   "cell_type": "markdown",
   "id": "a52c3fca",
   "metadata": {
    "papermill": {
     "duration": 0.034276,
     "end_time": "2022-04-14T17:09:40.437458",
     "exception": false,
     "start_time": "2022-04-14T17:09:40.403182",
     "status": "completed"
    },
    "tags": []
   },
   "source": [
    "### **Dimensiones**"
   ]
  },
  {
   "cell_type": "code",
   "execution_count": null,
   "id": "f261ed1a",
   "metadata": {
    "execution": {
     "iopub.execute_input": "2022-04-14T17:09:40.505962Z",
     "iopub.status.busy": "2022-04-14T17:09:40.504960Z",
     "iopub.status.idle": "2022-04-14T17:09:40.509630Z",
     "shell.execute_reply": "2022-04-14T17:09:40.510091Z",
     "shell.execute_reply.started": "2022-04-14T14:07:30.847523Z"
    },
    "papermill": {
     "duration": 0.040737,
     "end_time": "2022-04-14T17:09:40.510240",
     "exception": false,
     "start_time": "2022-04-14T17:09:40.469503",
     "status": "completed"
    },
    "tags": []
   },
   "outputs": [],
   "source": [
    "# Se muestra dimensiones: (filas, columnas)\n",
    "d.shape"
   ]
  },
  {
   "cell_type": "markdown",
   "id": "b9a8bbf9",
   "metadata": {
    "papermill": {
     "duration": 0.032166,
     "end_time": "2022-04-14T17:09:40.575077",
     "exception": false,
     "start_time": "2022-04-14T17:09:40.542911",
     "status": "completed"
    },
    "tags": []
   },
   "source": [
    "> **Cantidad de Filas: 54**\n",
    "\n",
    "> **Cantidad de Columnas: 1093**"
   ]
  },
  {
   "cell_type": "markdown",
   "id": "3356b88c",
   "metadata": {
    "papermill": {
     "duration": 0.03257,
     "end_time": "2022-04-14T17:09:40.640358",
     "exception": false,
     "start_time": "2022-04-14T17:09:40.607788",
     "status": "completed"
    },
    "tags": []
   },
   "source": [
    "  "
   ]
  },
  {
   "cell_type": "markdown",
   "id": "b92cef85",
   "metadata": {
    "papermill": {
     "duration": 0.032572,
     "end_time": "2022-04-14T17:09:40.705461",
     "exception": false,
     "start_time": "2022-04-14T17:09:40.672889",
     "status": "completed"
    },
    "tags": []
   },
   "source": [
    "### **Cantidad de datos Nulos**"
   ]
  },
  {
   "cell_type": "code",
   "execution_count": null,
   "id": "0adcf556",
   "metadata": {
    "execution": {
     "iopub.execute_input": "2022-04-14T17:09:40.789247Z",
     "iopub.status.busy": "2022-04-14T17:09:40.788552Z",
     "iopub.status.idle": "2022-04-14T17:09:40.961108Z",
     "shell.execute_reply": "2022-04-14T17:09:40.961621Z",
     "shell.execute_reply.started": "2022-04-14T14:07:30.856029Z"
    },
    "papermill": {
     "duration": 0.223858,
     "end_time": "2022-04-14T17:09:40.961798",
     "exception": false,
     "start_time": "2022-04-14T17:09:40.737940",
     "status": "completed"
    },
    "tags": []
   },
   "outputs": [],
   "source": [
    "# Contar cuantas columnas contiene ALGÚN dato nulo\n",
    "\n",
    "contador_nulls = 0\n",
    "\n",
    "for columna in d:  \n",
    "    if(d[columna].isnull().any().sum() > 0): \n",
    "        contador_nulls = contador_nulls + 1 \n",
    "    \n",
    "print(contador_nulls)\n"
   ]
  },
  {
   "cell_type": "code",
   "execution_count": null,
   "id": "d3bb5860",
   "metadata": {
    "execution": {
     "iopub.execute_input": "2022-04-14T17:09:41.114684Z",
     "iopub.status.busy": "2022-04-14T17:09:41.113860Z",
     "iopub.status.idle": "2022-04-14T17:09:41.117776Z",
     "shell.execute_reply": "2022-04-14T17:09:41.117141Z",
     "shell.execute_reply.started": "2022-04-14T14:07:31.048049Z"
    },
    "papermill": {
     "duration": 0.122969,
     "end_time": "2022-04-14T17:09:41.117923",
     "exception": false,
     "start_time": "2022-04-14T17:09:40.994954",
     "status": "completed"
    },
    "tags": []
   },
   "outputs": [],
   "source": [
    "# Contar cuantas filas contiene ALGÚN dato nulo\n",
    "\n",
    "contador_nulls = 0\n",
    "\n",
    "for i in range(0,54):\n",
    "    if(d.iloc[i].isnull().any().sum() > 0):\n",
    "        contador_nulls = contador_nulls + 1 \n",
    "    \n",
    "print(contador_nulls)"
   ]
  },
  {
   "cell_type": "markdown",
   "id": "806aa3e1",
   "metadata": {
    "papermill": {
     "duration": 0.033477,
     "end_time": "2022-04-14T17:09:41.185368",
     "exception": false,
     "start_time": "2022-04-14T17:09:41.151891",
     "status": "completed"
    },
    "tags": []
   },
   "source": [
    "> **No hay datos faltantes en ninguna fila**\n",
    "\n",
    "> **No hay datos faltantes en ninguna columna**"
   ]
  },
  {
   "cell_type": "markdown",
   "id": "dccf9104",
   "metadata": {
    "papermill": {
     "duration": 0.033523,
     "end_time": "2022-04-14T17:09:41.252270",
     "exception": false,
     "start_time": "2022-04-14T17:09:41.218747",
     "status": "completed"
    },
    "tags": []
   },
   "source": [
    " "
   ]
  },
  {
   "cell_type": "markdown",
   "id": "949f5c15",
   "metadata": {
    "papermill": {
     "duration": 0.033486,
     "end_time": "2022-04-14T17:09:41.319278",
     "exception": false,
     "start_time": "2022-04-14T17:09:41.285792",
     "status": "completed"
    },
    "tags": []
   },
   "source": [
    "### **Tipos de datos**"
   ]
  },
  {
   "cell_type": "code",
   "execution_count": null,
   "id": "e9616ff9",
   "metadata": {
    "execution": {
     "iopub.execute_input": "2022-04-14T17:09:41.416117Z",
     "iopub.status.busy": "2022-04-14T17:09:41.404878Z",
     "iopub.status.idle": "2022-04-14T17:09:41.418454Z",
     "shell.execute_reply": "2022-04-14T17:09:41.418996Z",
     "shell.execute_reply.started": "2022-04-14T14:07:31.143442Z"
    },
    "papermill": {
     "duration": 0.065772,
     "end_time": "2022-04-14T17:09:41.419188",
     "exception": false,
     "start_time": "2022-04-14T17:09:41.353416",
     "status": "completed"
    },
    "tags": []
   },
   "outputs": [],
   "source": [
    "# Analizo tipos de datos\n",
    "d.info()"
   ]
  },
  {
   "cell_type": "markdown",
   "id": "c0a5abae",
   "metadata": {
    "papermill": {
     "duration": 0.034197,
     "end_time": "2022-04-14T17:09:41.487486",
     "exception": false,
     "start_time": "2022-04-14T17:09:41.453289",
     "status": "completed"
    },
    "tags": []
   },
   "source": [
    "**El dataset posee tres tipos de datos:**\n",
    "\n",
    "> 554 de tipo float\n",
    "\n",
    "> 513 de tipo int\n",
    "\n",
    "> 26 de tipo object\n"
   ]
  },
  {
   "cell_type": "code",
   "execution_count": null,
   "id": "51bcb83f",
   "metadata": {
    "execution": {
     "iopub.execute_input": "2022-04-14T17:09:41.572279Z",
     "iopub.status.busy": "2022-04-14T17:09:41.562178Z",
     "iopub.status.idle": "2022-04-14T17:09:41.575446Z",
     "shell.execute_reply": "2022-04-14T17:09:41.574886Z",
     "shell.execute_reply.started": "2022-04-14T14:07:31.180727Z"
    },
    "papermill": {
     "duration": 0.054499,
     "end_time": "2022-04-14T17:09:41.575580",
     "exception": false,
     "start_time": "2022-04-14T17:09:41.521081",
     "status": "completed"
    },
    "tags": []
   },
   "outputs": [],
   "source": [
    "d.select_dtypes(include = 'int64').head()"
   ]
  },
  {
   "cell_type": "code",
   "execution_count": null,
   "id": "050e20b8",
   "metadata": {
    "execution": {
     "iopub.execute_input": "2022-04-14T17:09:41.673700Z",
     "iopub.status.busy": "2022-04-14T17:09:41.672961Z",
     "iopub.status.idle": "2022-04-14T17:09:41.675957Z",
     "shell.execute_reply": "2022-04-14T17:09:41.676442Z",
     "shell.execute_reply.started": "2022-04-14T14:07:31.203058Z"
    },
    "papermill": {
     "duration": 0.066448,
     "end_time": "2022-04-14T17:09:41.676614",
     "exception": false,
     "start_time": "2022-04-14T17:09:41.610166",
     "status": "completed"
    },
    "tags": []
   },
   "outputs": [],
   "source": [
    "d.select_dtypes(include = 'float64').head()"
   ]
  },
  {
   "cell_type": "code",
   "execution_count": null,
   "id": "830a0b41",
   "metadata": {
    "execution": {
     "iopub.execute_input": "2022-04-14T17:09:41.769154Z",
     "iopub.status.busy": "2022-04-14T17:09:41.768520Z",
     "iopub.status.idle": "2022-04-14T17:09:41.771221Z",
     "shell.execute_reply": "2022-04-14T17:09:41.771706Z",
     "shell.execute_reply.started": "2022-04-14T14:07:31.238727Z"
    },
    "papermill": {
     "duration": 0.059947,
     "end_time": "2022-04-14T17:09:41.771871",
     "exception": false,
     "start_time": "2022-04-14T17:09:41.711924",
     "status": "completed"
    },
    "tags": []
   },
   "outputs": [],
   "source": [
    "d.select_dtypes(include = 'object').head()"
   ]
  },
  {
   "cell_type": "markdown",
   "id": "620a5d5b",
   "metadata": {
    "papermill": {
     "duration": 0.035253,
     "end_time": "2022-04-14T17:09:41.842562",
     "exception": false,
     "start_time": "2022-04-14T17:09:41.807309",
     "status": "completed"
    },
    "tags": []
   },
   "source": [
    "## **2 - Análisis de Variables Cualitativas**"
   ]
  },
  {
   "cell_type": "code",
   "execution_count": null,
   "id": "070bc4ad",
   "metadata": {
    "execution": {
     "iopub.execute_input": "2022-04-14T17:09:41.943426Z",
     "iopub.status.busy": "2022-04-14T17:09:41.942702Z",
     "iopub.status.idle": "2022-04-14T17:09:41.945448Z",
     "shell.execute_reply": "2022-04-14T17:09:41.945870Z",
     "shell.execute_reply.started": "2022-04-14T14:34:13.737058Z"
    },
    "papermill": {
     "duration": 0.067002,
     "end_time": "2022-04-14T17:09:41.946021",
     "exception": false,
     "start_time": "2022-04-14T17:09:41.879019",
     "status": "completed"
    },
    "tags": []
   },
   "outputs": [],
   "source": [
    "d_trabajo = d.select_dtypes(include = 'object')\n",
    "d_trabajo.head()"
   ]
  },
  {
   "cell_type": "code",
   "execution_count": null,
   "id": "088279b0",
   "metadata": {
    "execution": {
     "iopub.execute_input": "2022-04-14T17:09:42.022360Z",
     "iopub.status.busy": "2022-04-14T17:09:42.021745Z",
     "iopub.status.idle": "2022-04-14T17:09:42.033798Z",
     "shell.execute_reply": "2022-04-14T17:09:42.033300Z",
     "shell.execute_reply.started": "2022-04-14T14:10:22.725908Z"
    },
    "papermill": {
     "duration": 0.05097,
     "end_time": "2022-04-14T17:09:42.033921",
     "exception": false,
     "start_time": "2022-04-14T17:09:41.982951",
     "status": "completed"
    },
    "tags": []
   },
   "outputs": [],
   "source": [
    "d_trabajo.info()"
   ]
  },
  {
   "cell_type": "markdown",
   "id": "e24479ba",
   "metadata": {
    "papermill": {
     "duration": 0.038806,
     "end_time": "2022-04-14T17:09:42.110026",
     "exception": false,
     "start_time": "2022-04-14T17:09:42.071220",
     "status": "completed"
    },
    "tags": []
   },
   "source": [
    " "
   ]
  },
  {
   "cell_type": "markdown",
   "id": "5d119764",
   "metadata": {
    "papermill": {
     "duration": 0.037163,
     "end_time": "2022-04-14T17:09:42.184484",
     "exception": false,
     "start_time": "2022-04-14T17:09:42.147321",
     "status": "completed"
    },
    "tags": []
   },
   "source": [
    "### **Análisis de cada variable**"
   ]
  },
  {
   "cell_type": "code",
   "execution_count": null,
   "id": "81e95af0",
   "metadata": {
    "execution": {
     "iopub.execute_input": "2022-04-14T17:09:42.262441Z",
     "iopub.status.busy": "2022-04-14T17:09:42.261492Z",
     "iopub.status.idle": "2022-04-14T17:09:42.486529Z",
     "shell.execute_reply": "2022-04-14T17:09:42.487024Z",
     "shell.execute_reply.started": "2022-04-14T15:02:40.851823Z"
    },
    "papermill": {
     "duration": 0.265757,
     "end_time": "2022-04-14T17:09:42.487217",
     "exception": false,
     "start_time": "2022-04-14T17:09:42.221460",
     "status": "completed"
    },
    "tags": []
   },
   "outputs": [],
   "source": [
    "d_trabajo['smoke_rarely'].replace({\"Yes\": \"Si\"}, inplace = True)\n",
    "\n",
    "sns.set_theme(style=\"whitegrid\")\n",
    "plt.figure(dpi=100)\n",
    "sns.countplot(x = \"smoke_rarely\", data = d_trabajo, order = d_trabajo[\"smoke_rarely\"].value_counts().iloc[:2].index)\n",
    "plt.ylabel(\"Frecuencia\")\n",
    "plt.xlabel(\"\")\n",
    "plt.title(\"Cantidad de personas que rara vez fuma\")\n",
    "plt.xticks(rotation=0)\n",
    "plt.show()\n",
    "\n",
    "print(d_trabajo['smoke_rarely'].value_counts())"
   ]
  },
  {
   "cell_type": "code",
   "execution_count": null,
   "id": "91542b19",
   "metadata": {
    "execution": {
     "iopub.execute_input": "2022-04-14T17:09:42.570545Z",
     "iopub.status.busy": "2022-04-14T17:09:42.569543Z",
     "iopub.status.idle": "2022-04-14T17:09:42.749021Z",
     "shell.execute_reply": "2022-04-14T17:09:42.749710Z",
     "shell.execute_reply.started": "2022-04-14T14:58:47.634388Z"
    },
    "papermill": {
     "duration": 0.223182,
     "end_time": "2022-04-14T17:09:42.749917",
     "exception": false,
     "start_time": "2022-04-14T17:09:42.526735",
     "status": "completed"
    },
    "tags": []
   },
   "outputs": [],
   "source": [
    "d_trabajo['smoke_often'].replace({\"Yes\": \"Si\"}, inplace = True)\n",
    "\n",
    "sns.set_theme(style=\"whitegrid\")\n",
    "plt.figure(dpi=100)\n",
    "sns.countplot(x = \"smoke_often\", data = d_trabajo, order = d_trabajo[\"smoke_often\"].value_counts().iloc[:2].index)\n",
    "plt.ylabel(\"Frecuencia\")\n",
    "plt.xlabel(\"\")\n",
    "plt.title(\"Cantidad de personas que fuman a menudo\")\n",
    "plt.xticks(rotation=0)\n",
    "plt.show()\n",
    "\n",
    "print(d_trabajo['smoke_often'].value_counts())"
   ]
  },
  {
   "cell_type": "code",
   "execution_count": null,
   "id": "f0e4482a",
   "metadata": {
    "execution": {
     "iopub.execute_input": "2022-04-14T17:09:42.845196Z",
     "iopub.status.busy": "2022-04-14T17:09:42.843633Z",
     "iopub.status.idle": "2022-04-14T17:09:43.017799Z",
     "shell.execute_reply": "2022-04-14T17:09:43.016945Z",
     "shell.execute_reply.started": "2022-04-14T14:50:13.258379Z"
    },
    "papermill": {
     "duration": 0.225463,
     "end_time": "2022-04-14T17:09:43.017937",
     "exception": false,
     "start_time": "2022-04-14T17:09:42.792474",
     "status": "completed"
    },
    "tags": []
   },
   "outputs": [],
   "source": [
    "d_trabajo['currently_smoke'].replace({\"Yes\": \"Si\"}, inplace = True)\n",
    "\n",
    "sns.set_theme(style=\"whitegrid\")\n",
    "plt.figure(dpi=100)\n",
    "sns.countplot(x = \"currently_smoke\", data = d_trabajo, order = d_trabajo[\"currently_smoke\"].value_counts().iloc[:2].index)\n",
    "plt.ylabel(\"Frecuencia\")\n",
    "plt.xlabel(\"\")\n",
    "plt.title(\"Cantidad de personas que actualmente fuma\")\n",
    "plt.xticks(rotation=0)\n",
    "plt.show()\n",
    "\n",
    "print(d_trabajo['currently_smoke'].value_counts())"
   ]
  },
  {
   "cell_type": "code",
   "execution_count": null,
   "id": "bf1b98af",
   "metadata": {
    "execution": {
     "iopub.execute_input": "2022-04-14T17:09:43.107255Z",
     "iopub.status.busy": "2022-04-14T17:09:43.106639Z",
     "iopub.status.idle": "2022-04-14T17:09:43.291099Z",
     "shell.execute_reply": "2022-04-14T17:09:43.290592Z",
     "shell.execute_reply.started": "2022-04-14T14:34:45.669764Z"
    },
    "papermill": {
     "duration": 0.229525,
     "end_time": "2022-04-14T17:09:43.291254",
     "exception": false,
     "start_time": "2022-04-14T17:09:43.061729",
     "status": "completed"
    },
    "tags": []
   },
   "outputs": [],
   "source": [
    "d_trabajo['ever_smoked'].replace({\"Yes\": \"Si\"}, inplace = True)\n",
    "\n",
    "sns.set_theme(style=\"whitegrid\")\n",
    "plt.figure(dpi=100)\n",
    "sns.countplot(x = \"ever_smoked\", data = d_trabajo, order = d_trabajo[\"ever_smoked\"].value_counts().iloc[:2].index)\n",
    "plt.ylabel(\"Frecuencia\")\n",
    "plt.xlabel(\"\")\n",
    "plt.title(\"Cantidad de personas que alguna vez fumó\")\n",
    "plt.xticks(rotation=0)\n",
    "plt.show()\n",
    "\n",
    "print(d_trabajo['ever_smoked'].value_counts())"
   ]
  },
  {
   "cell_type": "code",
   "execution_count": null,
   "id": "f4c9e87f",
   "metadata": {
    "execution": {
     "iopub.execute_input": "2022-04-14T17:09:43.392896Z",
     "iopub.status.busy": "2022-04-14T17:09:43.392262Z",
     "iopub.status.idle": "2022-04-14T17:09:43.566540Z",
     "shell.execute_reply": "2022-04-14T17:09:43.565827Z",
     "shell.execute_reply.started": "2022-04-14T14:35:36.491986Z"
    },
    "papermill": {
     "duration": 0.230735,
     "end_time": "2022-04-14T17:09:43.566727",
     "exception": false,
     "start_time": "2022-04-14T17:09:43.335992",
     "status": "completed"
    },
    "tags": []
   },
   "outputs": [],
   "source": [
    "d_trabajo['belly'].replace({\"Innie\": \"Hundido\"}, inplace = True)\n",
    "d_trabajo['belly'].replace({\"Outie\": \"Salido\"}, inplace = True)\n",
    "\n",
    "sns.set_theme(style=\"whitegrid\")\n",
    "plt.figure(dpi=100)\n",
    "sns.countplot(x = \"belly\", data = d_trabajo, order = d_trabajo[\"belly\"].value_counts().iloc[:2].index)\n",
    "plt.ylabel(\"Frecuencia\")\n",
    "plt.xlabel(\"\")\n",
    "plt.title(\"Cantidad de personas según su tipo de obligo\")\n",
    "plt.xticks(rotation=0)\n",
    "plt.show()\n",
    "\n",
    "print(d_trabajo['belly'].value_counts())"
   ]
  },
  {
   "cell_type": "code",
   "execution_count": null,
   "id": "0430cc86",
   "metadata": {
    "execution": {
     "iopub.execute_input": "2022-04-14T17:09:43.665528Z",
     "iopub.status.busy": "2022-04-14T17:09:43.664583Z",
     "iopub.status.idle": "2022-04-14T17:09:43.856113Z",
     "shell.execute_reply": "2022-04-14T17:09:43.855558Z",
     "shell.execute_reply.started": "2022-04-14T14:36:36.114974Z"
    },
    "papermill": {
     "duration": 0.241436,
     "end_time": "2022-04-14T17:09:43.856276",
     "exception": false,
     "start_time": "2022-04-14T17:09:43.614840",
     "status": "completed"
    },
    "tags": []
   },
   "outputs": [],
   "source": [
    "d_trabajo['heart_disease'].replace({\"Yes\": \"Si\"}, inplace = True)\n",
    "\n",
    "sns.set_theme(style=\"whitegrid\")\n",
    "plt.figure(dpi=100)\n",
    "sns.countplot(x = \"heart_disease\", data = d_trabajo, order = d_trabajo[\"heart_disease\"].value_counts().iloc[:2].index)\n",
    "plt.ylabel(\"Frecuencia\")\n",
    "plt.xlabel(\"\")\n",
    "plt.title(\"¿Cuantas personas tienen enfermedades cardiacas?\")\n",
    "plt.xticks(rotation=0)\n",
    "plt.show()\n",
    "\n",
    "print(d_trabajo['heart_disease'].value_counts())"
   ]
  },
  {
   "cell_type": "code",
   "execution_count": null,
   "id": "99402fe8",
   "metadata": {
    "execution": {
     "iopub.execute_input": "2022-04-14T17:09:43.959303Z",
     "iopub.status.busy": "2022-04-14T17:09:43.958658Z",
     "iopub.status.idle": "2022-04-14T17:09:44.147858Z",
     "shell.execute_reply": "2022-04-14T17:09:44.148362Z",
     "shell.execute_reply.started": "2022-04-14T14:36:52.582724Z"
    },
    "papermill": {
     "duration": 0.24141,
     "end_time": "2022-04-14T17:09:44.148548",
     "exception": false,
     "start_time": "2022-04-14T17:09:43.907138",
     "status": "completed"
    },
    "tags": []
   },
   "outputs": [],
   "source": [
    "d_trabajo['diabetes'].replace({\"Yes\": \"Si\"}, inplace = True)\n",
    "\n",
    "sns.set_theme(style=\"whitegrid\")\n",
    "plt.figure(dpi=100)\n",
    "sns.countplot(x = \"diabetes\", data = d_trabajo, order = d_trabajo[\"diabetes\"].value_counts().iloc[:2].index)\n",
    "plt.ylabel(\"Frecuencia\")\n",
    "plt.xlabel(\"\")\n",
    "plt.title(\"¿Cuantas personas tienen Diabetes?\")\n",
    "plt.xticks(rotation=0)\n",
    "plt.show()\n",
    "\n",
    "print(d_trabajo['diabetes'].value_counts())"
   ]
  },
  {
   "cell_type": "code",
   "execution_count": null,
   "id": "744ad463",
   "metadata": {
    "execution": {
     "iopub.execute_input": "2022-04-14T17:09:44.275413Z",
     "iopub.status.busy": "2022-04-14T17:09:44.274733Z",
     "iopub.status.idle": "2022-04-14T17:09:44.439888Z",
     "shell.execute_reply": "2022-04-14T17:09:44.440412Z",
     "shell.execute_reply.started": "2022-04-14T14:37:08.877774Z"
    },
    "papermill": {
     "duration": 0.24107,
     "end_time": "2022-04-14T17:09:44.440581",
     "exception": false,
     "start_time": "2022-04-14T17:09:44.199511",
     "status": "completed"
    },
    "tags": []
   },
   "outputs": [],
   "source": [
    "d_trabajo['cancer'].replace({\"Yes\": \"Si\"}, inplace = True)\n",
    "\n",
    "sns.set_theme(style=\"whitegrid\")\n",
    "plt.figure(dpi=100)\n",
    "sns.countplot(x = \"cancer\", data = d_trabajo, order = d_trabajo[\"cancer\"].value_counts().iloc[:2].index)\n",
    "plt.ylabel(\"Frecuencia\")\n",
    "plt.xlabel(\"\")\n",
    "plt.title(\"¿Cuantas personas tienen Cáncer?\")\n",
    "plt.xticks(rotation=0)\n",
    "plt.show()\n",
    "\n",
    "print(d_trabajo['cancer'].value_counts())"
   ]
  },
  {
   "cell_type": "markdown",
   "id": "3cb3a2e1",
   "metadata": {
    "papermill": {
     "duration": 0.052364,
     "end_time": "2022-04-14T17:09:44.546240",
     "exception": false,
     "start_time": "2022-04-14T17:09:44.493876",
     "status": "completed"
    },
    "tags": []
   },
   "source": [
    "## **3 - Análisis de Variables Cuantitativas**"
   ]
  },
  {
   "cell_type": "code",
   "execution_count": null,
   "id": "8bec7e05",
   "metadata": {
    "papermill": {
     "duration": 0.052302,
     "end_time": "2022-04-14T17:09:44.650950",
     "exception": false,
     "start_time": "2022-04-14T17:09:44.598648",
     "status": "completed"
    },
    "tags": []
   },
   "outputs": [],
   "source": []
  },
  {
   "cell_type": "code",
   "execution_count": null,
   "id": "1bcbcdfb",
   "metadata": {
    "papermill": {
     "duration": 0.052395,
     "end_time": "2022-04-14T17:09:44.756018",
     "exception": false,
     "start_time": "2022-04-14T17:09:44.703623",
     "status": "completed"
    },
    "tags": []
   },
   "outputs": [],
   "source": []
  },
  {
   "cell_type": "code",
   "execution_count": null,
   "id": "935c78a4",
   "metadata": {
    "papermill": {
     "duration": 0.051315,
     "end_time": "2022-04-14T17:09:44.859828",
     "exception": false,
     "start_time": "2022-04-14T17:09:44.808513",
     "status": "completed"
    },
    "tags": []
   },
   "outputs": [],
   "source": []
  }
 ],
 "metadata": {
  "kernelspec": {
   "display_name": "Python 3",
   "language": "python",
   "name": "python3"
  },
  "language_info": {
   "codemirror_mode": {
    "name": "ipython",
    "version": 3
   },
   "file_extension": ".py",
   "mimetype": "text/x-python",
   "name": "python",
   "nbconvert_exporter": "python",
   "pygments_lexer": "ipython3",
   "version": "3.10.3"
  },
  "papermill": {
   "default_parameters": {},
   "duration": 16.22887,
   "end_time": "2022-04-14T17:09:45.622908",
   "environment_variables": {},
   "exception": null,
   "input_path": "__notebook__.ipynb",
   "output_path": "__notebook__.ipynb",
   "parameters": {},
   "start_time": "2022-04-14T17:09:29.394038",
   "version": "2.3.3"
  }
 },
 "nbformat": 4,
 "nbformat_minor": 5
}
